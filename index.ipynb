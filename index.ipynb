{
 "cells": [
  {
   "cell_type": "markdown",
   "metadata": {},
   "source": [
    "# A/B Testing - Lab\n",
    "\n",
    "## Introduction\n",
    "\n",
    "In this lab, you'll go through a the process of designing an experiment.\n",
    "\n",
    "## Objectives\n",
    "You will be able to:\n",
    "\n",
    "* Design, structure, and run an A/B test\n",
    "\n",
    "\n",
    "## The Scenario\n",
    "\n",
    "You've been tasked with designing an experiment to test whether a new email template will be more effective for your company's marketing team. The current template has a 5% response rate (with standard deviation .0475), which has outperformed numerous other templates in the past. The company is excited to test the new design that was developed internally, but nervous about losing sales if it is not to work out. As a result, they are looking to determine how many individuals they will need to serve the new email template to in order to detect a 1% performance increase (or decrease).\n",
    "\n",
    "\n",
    "## Step 1: State the Null Hypothesis, $H_0$"
   ]
  },
  {
   "cell_type": "markdown",
   "metadata": {},
   "source": [
    "State your null hypothesis here (be sure to make it quantitative as before)\n",
    "\n",
    "h_0 : #Your null hypothesis"
   ]
  },
  {
   "cell_type": "code",
   "execution_count": null,
   "metadata": {},
   "outputs": [],
   "source": [
    "#The two email designes have similar response rates"
   ]
  },
  {
   "cell_type": "markdown",
   "metadata": {},
   "source": [
    "## Step 2: State the Alternative Hypothesis, $H_1$"
   ]
  },
  {
   "cell_type": "markdown",
   "metadata": {},
   "source": [
    "State your alternative hypothesis here (be sure to make it quantitative as before)\n",
    "\n",
    "h_1 : #Your alternative hypothesis"
   ]
  },
  {
   "cell_type": "code",
   "execution_count": null,
   "metadata": {},
   "outputs": [],
   "source": [
    "#the email designs elicit different response rates"
   ]
  },
  {
   "cell_type": "markdown",
   "metadata": {},
   "source": [
    "## Step 3: Calculate n for standard alpha and power thresholds\n",
    "\n",
    "Now define what alpha and beta you believe might be appropriate for this scenario.\n",
    "To start, arbitrarily set alpha to 0.05. From this, calculate the required sample size to detect a .01 response rate difference at a power of .8.\n",
    "\n",
    "> Note: Be sure to calculate a normalized effect size using Cohen's d from the raw response rate difference."
   ]
  },
  {
   "cell_type": "code",
   "execution_count": 3,
   "metadata": {},
   "outputs": [
    {
     "data": {
      "text/plain": [
       "(339, 0.806)"
      ]
     },
     "execution_count": 3,
     "metadata": {},
     "output_type": "execute_result"
    }
   ],
   "source": [
    "# Calculate the required sample size\n",
    "import numpy as np\n",
    "import scipy.stats as stats\n",
    "import pandas as pd\n",
    "\n",
    "m1 = .05\n",
    "m2 = .06\n",
    "std = .0475\n",
    "\n",
    "power_sample = []\n",
    "current_power = 0\n",
    "sample = 20\n",
    "n_sim = 500\n",
    "while current_power < .8:\n",
    "    p = (np.empty(n_sim))\n",
    "    p.fill(np.nan)\n",
    "    for s in range(n_sim):\n",
    "        control = np.random.normal(loc= m1, scale=std, size=sample)\n",
    "        experimental = np.random.normal(loc= m2, scale=std, size=sample)\n",
    "        t_test = stats.ttest_ind(control, experimental)\n",
    "        p[s] = t_test[1]\n",
    "        \n",
    "    num_null_rejects = np.sum(p < .05)\n",
    "    reject_proportion = num_null_rejects/n_sim\n",
    "    power_sample.append((sample,reject_proportion))\n",
    "    sample+=1\n",
    "    current_power = reject_proportion\n",
    "    \n",
    "power_sample[-1]"
   ]
  },
  {
   "cell_type": "markdown",
   "metadata": {},
   "source": [
    "## Step 4: Plot Power Curves for Alternative Experiment Formulations\n",
    "\n",
    "While you now know how many observations you need in order to run a t-test for the given formulation above, its worth exploring what sample sizes would be required for alternative test formulations. For example, how much does the required sample size increase if you put the more stringent criteria of $\\alpha=.01$? Or what is the sample size required to detect a .03 response rate difference at the same $\\alpha$ and power thresholds? To investigate this, plot power vs sample size curves for alpha values of .01, .05 and .1 along with varying response rate differences of .005, .01, .02 and .03."
   ]
  },
  {
   "cell_type": "code",
   "execution_count": 4,
   "metadata": {},
   "outputs": [],
   "source": [
    "#Your code; plot power curves for the various alpha and effect size combinations\n",
    "import matplotlib.pyplot as plt\n",
    "%matplotlib inline\n",
    "alphas = [.01,.05,.1]\n",
    "diffs = [.005,.01,.02,.03]\n",
    "required_samples = []\n",
    "\n",
    "for alpha in alphas:\n",
    "    entry = []\n",
    "    for diff in diffs:\n",
    "        m1 = .05\n",
    "        m2 = .05 + diff\n",
    "        std = .0475\n",
    "        power_sample = []\n",
    "        current_power = 0\n",
    "        sample = 20\n",
    "        n_sim = 500\n",
    "        while current_power < .8 and sample<1000:\n",
    "            p = (np.empty(n_sim))\n",
    "            p.fill(np.nan)\n",
    "            for s in range(n_sim):\n",
    "                control = np.random.normal(loc= m1, scale=std, size=sample)\n",
    "                experimental = np.random.normal(loc= m2, scale=std, size=sample)\n",
    "                t_test = stats.ttest_ind(control, experimental)\n",
    "                p[s] = t_test[1]\n",
    "        \n",
    "            num_null_rejects = np.sum(p < alpha)\n",
    "            reject_proportion = num_null_rejects/n_sim\n",
    "            power_sample.append((sample,reject_proportion))\n",
    "            sample+=1\n",
    "            current_power = reject_proportion\n",
    "        entry.append({diff:sample})\n",
    "    required_samples.append({alpha:entry})"
   ]
  },
  {
   "cell_type": "code",
   "execution_count": 23,
   "metadata": {},
   "outputs": [
    {
     "data": {
      "text/plain": [
       "<matplotlib.legend.Legend at 0x7f1b5ed7d7b8>"
      ]
     },
     "execution_count": 23,
     "metadata": {},
     "output_type": "execute_result"
    },
    {
     "data": {
      "image/png": "[encoded data removed]",
      "text/plain": [
       "<Figure size 432x288 with 1 Axes>"
      ]
     },
     "metadata": {
      "needs_background": "light"
     },
     "output_type": "display_data"
    }
   ],
   "source": [
    "required_samples\n",
    "samples = {0.01:{0.005: 1000,0.01: 499,0.02: 129,0.03: 61},\n",
    "          0.05: {0.005: 1000,0.01: 337,0.02: 87,0.03: 43},\n",
    "          0.1: {0.005: 999,0.01: 271,0.02: 67,0.03: 29}}\n",
    "\n",
    "alphas = [.01,.05,.1]\n",
    "diffs = [.005,.01,.02,.03]\n",
    "for diff in diffs:\n",
    "    ys = [samples[alpha][diff] for alpha in alphas]\n",
    "    plt.plot(ys,diffs,label='alpha is {}'.format(alpha))\n",
    "plt.legend()"
   ]
  },
  {
   "cell_type": "code",
   "execution_count": 19,
   "metadata": {},
   "outputs": [
    {
     "data": {
      "text/plain": [
       "[{0.005: 1000}, {0.01: 499}, {0.02: 129}, {0.03: 61}]"
      ]
     },
     "execution_count": 19,
     "metadata": {},
     "output_type": "execute_result"
    }
   ],
   "source": [
    "samples[0.01]"
   ]
  },
  {
   "cell_type": "markdown",
   "metadata": {},
   "source": [
    "## Step 5: Propose a Final Experimental Design\n",
    "\n",
    "Finally, now that you've explored some of the various sample sizes required for statistical tests of varying power, effect size and type I errors, propose an experimental design to pitch to your boss and some of the accompanying advantages or disadvantages with it."
   ]
  },
  {
   "cell_type": "markdown",
   "metadata": {},
   "source": [
    "### Your answer here"
   ]
  },
  {
   "cell_type": "markdown",
   "metadata": {},
   "source": [
    "## Summary\n",
    "\n",
    "In this lab, you practiced designing an initial experiment and then refined the parameters of the experiment based on an initial sample to determine feasibility."
   ]
  }
 ],
 "metadata": {
  "kernelspec": {
   "display_name": "Python 3",
   "language": "python",
   "name": "python3"
  },
  "language_info": {
   "codemirror_mode": {
    "name": "ipython",
    "version": 3
   },
   "file_extension": ".py",
   "mimetype": "text/x-python",
   "name": "python",
   "nbconvert_exporter": "python",
   "pygments_lexer": "ipython3",
   "version": "3.6.6"
  }
 },
 "nbformat": 4,
 "nbformat_minor": 2
}
